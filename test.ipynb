{
 "metadata": {
  "name": "test"
 }, 
 "nbformat": 2, 
 "worksheets": [
  {
   "cells": [
    {
     "cell_type": "code", 
     "collapsed": true, 
     "input": [
      "import pycurl", 
      "from StringIO import StringIO"
     ], 
     "language": "python", 
     "outputs": [], 
     "prompt_number": 3
    }, 
    {
     "cell_type": "code", 
     "collapsed": false, 
     "input": [
      "buffer = StringIO()", 
      "c = pycurl.Curl()", 
      "c.setopt(c.URL, 'https://raw.githubusercontent.com/andrewmusselman/nb/master/test.tsv')", 
      "c.setopt(c.WRITEFUNCTION, buffer.write)", 
      "c.perform()", 
      "c.close()", 
      "body = buffer.getvalue()", 
      "print(body)"
     ], 
     "language": "python", 
     "outputs": [
      {
       "output_type": "stream", 
       "stream": "stdout", 
       "text": [
        "1\thello\tthere", 
        "2\twhy\tnot", 
        "3\tI\tguess", 
        ""
       ]
      }
     ], 
     "prompt_number": 8
    }, 
    {
     "cell_type": "code", 
     "collapsed": true, 
     "input": [], 
     "language": "python", 
     "outputs": []
    }
   ]
  }
 ]
}